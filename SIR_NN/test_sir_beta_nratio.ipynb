{
 "cells": [
  {
   "cell_type": "markdown",
   "id": "1b0eda28",
   "metadata": {},
   "source": [
    "### Import Packages"
   ]
  },
  {
   "cell_type": "code",
   "execution_count": 1,
   "id": "a6a45cd5",
   "metadata": {
    "scrolled": true
   },
   "outputs": [
    {
     "name": "stdout",
     "output_type": "stream",
     "text": [
      "Packages Imported\n"
     ]
    }
   ],
   "source": [
    "# tensorflow\n",
    "import tensorflow as tf\n",
    "from tensorflow.keras import layers\n",
    "\n",
    "# Helper libraries\n",
    "import numpy as np\n",
    "import matplotlib.pyplot as plt\n",
    "import os\n",
    "import pandas as pd\n",
    "\n",
    "print(\"Packages Imported\")"
   ]
  },
  {
   "cell_type": "markdown",
   "id": "222a2955",
   "metadata": {},
   "source": [
    "### Inputs"
   ]
  },
  {
   "cell_type": "code",
   "execution_count": 3,
   "id": "61379ccc",
   "metadata": {
    "scrolled": true
   },
   "outputs": [
    {
     "name": "stdout",
     "output_type": "stream",
     "text": [
      "Input Path Set\n"
     ]
    }
   ],
   "source": [
    "cwd = os.getcwd()\n",
    "in_subpath = \"output_final\\\\1 - Initial Testing\"\n",
    "in_file = \"sir_250000_beta_random_gamma_fixed_n_range\"\n",
    "in_path = os.path.join(cwd, in_subpath, in_file)\n",
    "\n",
    "print(\"Input Path Set\")"
   ]
  },
  {
   "cell_type": "markdown",
   "id": "9ef200e8",
   "metadata": {},
   "source": [
    "### Load Data"
   ]
  },
  {
   "cell_type": "code",
   "execution_count": 4,
   "id": "fc5b9bb9",
   "metadata": {
    "scrolled": false
   },
   "outputs": [
    {
     "name": "stdout",
     "output_type": "stream",
     "text": [
      "\n",
      "Loading Data\n",
      "Data Loaded\n"
     ]
    }
   ],
   "source": [
    "# LOAD DATA\n",
    "print(\"\\nLoading Data\")\n",
    "data_raw = pd.read_csv('output_sir_monte_carlo_test.csv', delimiter=',', header=None)\n",
    "data_eval = data_raw.to_numpy()\n",
    "print(\"Data Loaded\")\n",
    "\n",
    "indx_p_start = np.where(data_eval[0] == 666)[0][0]\n",
    "indx_i_start = np.where(data_eval[0] == 777)[0][0]\n",
    "indx_end = np.where(data_eval[0] == 999)[0][0]"
   ]
  },
  {
   "cell_type": "markdown",
   "id": "0028717c",
   "metadata": {},
   "source": [
    "### Process Data"
   ]
  },
  {
   "cell_type": "code",
   "execution_count": 5,
   "id": "bf1aa939",
   "metadata": {
    "scrolled": false
   },
   "outputs": [
    {
     "name": "stdout",
     "output_type": "stream",
     "text": [
      "\n",
      "Testing Data:\n",
      "Sample: (1, 120)\n"
     ]
    }
   ],
   "source": [
    "n_days = 120\n",
    "\n",
    "param_start = indx_p_start + 1\n",
    "param_end = indx_i_start - indx_p_start\n",
    "\n",
    "i_start = param_end + 1\n",
    "i_end = i_start + n_days\n",
    "\n",
    "y_data = data_eval[:, param_start:param_end]\n",
    "x_raw = data_eval[:, i_start:i_end]\n",
    "\n",
    "x_total = data_eval[:, i_start:i_start + 365]\n",
    "\n",
    "n = len(x_total[0])\n",
    "N0 = 4500000\n",
    "\n",
    "x_data = x_raw / N0\n",
    "\n",
    "print(\"\\nTesting Data:\")\n",
    "print(\"Sample: {0}\".format(x_data.shape))"
   ]
  },
  {
   "cell_type": "markdown",
   "id": "6043995e",
   "metadata": {},
   "source": [
    "### Run Model"
   ]
  },
  {
   "cell_type": "code",
   "execution_count": 6,
   "id": "91fa9473",
   "metadata": {
    "scrolled": false
   },
   "outputs": [
    {
     "name": "stdout",
     "output_type": "stream",
     "text": [
      "Model: \"sequential\"\n",
      "_________________________________________________________________\n",
      "Layer (type)                 Output Shape              Param #   \n",
      "=================================================================\n",
      "dense (Dense)                (None, 64)                7744      \n",
      "_________________________________________________________________\n",
      "dense_1 (Dense)              (None, 64)                4160      \n",
      "_________________________________________________________________\n",
      "dense_2 (Dense)              (None, 64)                4160      \n",
      "_________________________________________________________________\n",
      "dense_3 (Dense)              (None, 64)                4160      \n",
      "_________________________________________________________________\n",
      "dense_4 (Dense)              (None, 2)                 130       \n",
      "=================================================================\n",
      "Total params: 20,354\n",
      "Trainable params: 20,354\n",
      "Non-trainable params: 0\n",
      "_________________________________________________________________\n"
     ]
    }
   ],
   "source": [
    "model1 = tf.keras.models.load_model(in_path)\n",
    "model1.summary()\n",
    "\n",
    "predictions_data = model1.predict(x_data) # make predictions on test set to compare with actual"
   ]
  },
  {
   "cell_type": "markdown",
   "id": "06b4b0c8",
   "metadata": {},
   "source": [
    "### Simulate ODE"
   ]
  },
  {
   "cell_type": "code",
   "execution_count": 8,
   "id": "ed123327",
   "metadata": {},
   "outputs": [
    {
     "name": "stdout",
     "output_type": "stream",
     "text": [
      "\n",
      "Sample Length \t n - Actual \t n - NN \t Beta - Actual \t Beta - NN\n",
      "365 \t\t 0.04949551 \t 0.05061105 \t 0.35497724 \t 0.35534942\n",
      "\n",
      "Error n: 2.25%\n",
      "Error Beta: 0.10%\n",
      "\n",
      "MSE: 208684.3701974774\n"
     ]
    }
   ],
   "source": [
    "n_pred = predictions_data[0, 0]\n",
    "beta_pred = predictions_data[0, 1]\n",
    "gamma_pred = 1.0 / 11\n",
    "\n",
    "n_real = y_data[0, 0]\n",
    "beta_real = y_data[0, 1]\n",
    "gamma_real = 1.0 / 11\n",
    "\n",
    "N = N0 * n_pred\n",
    "I0 = 1\n",
    "S0 = N - I0\n",
    "R0 = 0\n",
    "\n",
    "S = []\n",
    "I = []\n",
    "R = []\n",
    "\n",
    "S.append(S0)\n",
    "I.append(I0)\n",
    "R.append(R0)\n",
    "\n",
    "for i in range(0, n - 1):\n",
    "    dS = - (beta_pred * S[i] * I[i] / N)\n",
    "    dI = (beta_pred * S[i] * I[i] / N) - (gamma_pred * I[i])\n",
    "    dR = (gamma_pred * I[i])\n",
    "\n",
    "    Snew = S[i] + dS\n",
    "    Inew = I[i] + dI\n",
    "    Rnew = R[i] + dR\n",
    "\n",
    "    S.append(Snew)\n",
    "    I.append(Inew)\n",
    "    R.append(Rnew)\n",
    "\n",
    "print(\"\\nSample Length \\t n - Actual \\t n - NN \\t Beta - Actual \\t Beta - NN\")\n",
    "print(\"{0} \\t\\t {1:.8f} \\t {2:.8f} \\t {3:.8f} \\t {4:.8f}\".format(n, y_data[0, 0], predictions_data[0, 0], y_data[0, 1], predictions_data[0, 1]))\n",
    "\n",
    "# CALCUATE RELATIVE ERROR\n",
    "error_n = 100 * abs(n_real - n_pred) / n_real\n",
    "error_beta = 100 * abs(beta_real - beta_pred) / beta_real\n",
    "\n",
    "print(\"\\nError n: {0:.2f}%\".format(error_n))\n",
    "print(\"Error Beta: {0:.2f}%\".format(error_beta))\n",
    "\n",
    "# CALCULATE MSE\n",
    "x_smple = x_total.reshape(n, )\n",
    "mse = sum(np.abs(I - x_smple)**2) / len(I)\n",
    "print(\"\\nMSE: {0}\".format(mse))"
   ]
  },
  {
   "cell_type": "markdown",
   "id": "dc968b3b",
   "metadata": {},
   "source": [
    "### Plot Results"
   ]
  },
  {
   "cell_type": "code",
   "execution_count": 12,
   "id": "9aaa2585",
   "metadata": {},
   "outputs": [
    {
     "data": {
      "image/png": "[encoded data removed]",
      "text/plain": [
       "<Figure size 1080x576 with 1 Axes>"
      ]
     },
     "metadata": {
      "needs_background": "light"
     },
     "output_type": "display_data"
    }
   ],
   "source": [
    "t_required = np.linspace(0, n, n)\n",
    "\n",
    "plt.figure(figsize=(15,8))\n",
    "plt.plot(t_required, x_smple, \"ob\", ms=10, label=\"Real: n = {0:.6f}, Beta = {1:.6f}\".format(n_real, beta_real))\n",
    "plt.plot(t_required, I, \"-r\", linewidth=2, label=\"Predicted: n = {0:.6f}, Beta = {1:.6f}\".format(n_pred, beta_pred))\n",
    "plt.xlabel(\"Days\", fontsize=18)\n",
    "plt.ylabel(\"Infected Cases\", fontsize=18)\n",
    "plt.xticks(fontsize=16)\n",
    "plt.yticks(fontsize=16)\n",
    "plt.xlim(0, 365)\n",
    "plt.ylim(0, 100000)\n",
    "plt.legend(loc='upper right', fontsize=16)\n",
    "plt.grid()\n",
    "plt.show()"
   ]
  }
 ],
 "metadata": {
  "kernelspec": {
   "display_name": "Python 3",
   "language": "python",
   "name": "python3"
  },
  "language_info": {
   "codemirror_mode": {
    "name": "ipython",
    "version": 3
   },
   "file_extension": ".py",
   "mimetype": "text/x-python",
   "name": "python",
   "nbconvert_exporter": "python",
   "pygments_lexer": "ipython3",
   "version": "3.7.8"
  }
 },
 "nbformat": 4,
 "nbformat_minor": 5
}
