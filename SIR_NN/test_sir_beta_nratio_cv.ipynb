{
 "cells": [
  {
   "cell_type": "markdown",
   "metadata": {},
   "source": [
    "### Import Packages"
   ]
  },
  {
   "cell_type": "code",
   "execution_count": 9,
   "metadata": {
    "scrolled": true
   },
   "outputs": [
    {
     "name": "stdout",
     "output_type": "stream",
     "text": [
      "Packages Imported\n"
     ]
    }
   ],
   "source": [
    "# tensorflow\n",
    "import tensorflow as tf\n",
    "from tensorflow.keras import layers\n",
    "\n",
    "# Helper libraries\n",
    "import numpy as np\n",
    "import matplotlib.pyplot as plt\n",
    "import os\n",
    "import pandas as pd\n",
    "\n",
    "print(\"Packages Imported\")"
   ]
  },
  {
   "cell_type": "markdown",
   "metadata": {},
   "source": [
    "### Inputs"
   ]
  },
  {
   "cell_type": "code",
   "execution_count": 10,
   "metadata": {
    "scrolled": true
   },
   "outputs": [
    {
     "name": "stdout",
     "output_type": "stream",
     "text": [
      "Input Path Set\n"
     ]
    }
   ],
   "source": [
    "cwd = os.getcwd()\n",
    "in_subpath = \"output_final\\\\4 - Cross-Validation\"\n",
    "\n",
    "print(\"Input Path Set\")"
   ]
  },
  {
   "cell_type": "markdown",
   "metadata": {},
   "source": [
    "### Load Data"
   ]
  },
  {
   "cell_type": "code",
   "execution_count": 11,
   "metadata": {
    "scrolled": false
   },
   "outputs": [
    {
     "name": "stdout",
     "output_type": "stream",
     "text": [
      "\n",
      "Loading Data\n",
      "Data Loaded\n"
     ]
    }
   ],
   "source": [
    "# LOAD DATA\n",
    "print(\"\\nLoading Data\")\n",
    "data_raw = pd.read_csv('output_sir_monte_carlo_test.csv', delimiter=',', header=None)\n",
    "data_eval = data_raw.to_numpy()\n",
    "print(\"Data Loaded\")\n",
    "\n",
    "indx_p_start = np.where(data_eval[0] == 666)[0][0]\n",
    "indx_i_start = np.where(data_eval[0] == 777)[0][0]\n",
    "indx_end = np.where(data_eval[0] == 999)[0][0]"
   ]
  },
  {
   "cell_type": "markdown",
   "metadata": {},
   "source": [
    "### Process Data"
   ]
  },
  {
   "cell_type": "code",
   "execution_count": 12,
   "metadata": {
    "scrolled": false
   },
   "outputs": [
    {
     "name": "stdout",
     "output_type": "stream",
     "text": [
      "\n",
      "Testing Data:\n",
      "Sample: (1, 120)\n"
     ]
    }
   ],
   "source": [
    "n_days = 120\n",
    "\n",
    "param_start = indx_p_start + 1\n",
    "param_end = indx_i_start - indx_p_start\n",
    "\n",
    "i_start = param_end + 1\n",
    "i_end = i_start + n_days\n",
    "\n",
    "y_data = data_eval[:, param_start:param_end]\n",
    "x_raw = data_eval[:, i_start:i_end]\n",
    "\n",
    "x_total = data_eval[:, i_start:i_start + 365]\n",
    "\n",
    "n = len(x_total[0])\n",
    "N0 = 4500000\n",
    "\n",
    "x_data = x_raw / N0\n",
    "\n",
    "print(\"\\nTesting Data:\")\n",
    "print(\"Sample: {0}\".format(x_data.shape))"
   ]
  },
  {
   "cell_type": "markdown",
   "metadata": {},
   "source": [
    "### Run Model"
   ]
  },
  {
   "cell_type": "code",
   "execution_count": 14,
   "metadata": {
    "scrolled": false
   },
   "outputs": [
    {
     "name": "stdout",
     "output_type": "stream",
     "text": [
      "\n",
      "------------------------------\n",
      "K = 1\n",
      "Model: \"sequential_3\"\n",
      "_________________________________________________________________\n",
      "Layer (type)                 Output Shape              Param #   \n",
      "=================================================================\n",
      "dense_15 (Dense)             (None, 128)               15488     \n",
      "_________________________________________________________________\n",
      "dense_16 (Dense)             (None, 128)               16512     \n",
      "_________________________________________________________________\n",
      "dense_17 (Dense)             (None, 128)               16512     \n",
      "_________________________________________________________________\n",
      "dense_18 (Dense)             (None, 128)               16512     \n",
      "_________________________________________________________________\n",
      "dense_19 (Dense)             (None, 2)                 258       \n",
      "=================================================================\n",
      "Total params: 65,282\n",
      "Trainable params: 65,282\n",
      "Non-trainable params: 0\n",
      "_________________________________________________________________\n",
      "\n",
      "------------------------------\n",
      "K = 2\n",
      "Model: \"sequential_4\"\n",
      "_________________________________________________________________\n",
      "Layer (type)                 Output Shape              Param #   \n",
      "=================================================================\n",
      "dense_20 (Dense)             (None, 128)               15488     \n",
      "_________________________________________________________________\n",
      "dense_21 (Dense)             (None, 128)               16512     \n",
      "_________________________________________________________________\n",
      "dense_22 (Dense)             (None, 128)               16512     \n",
      "_________________________________________________________________\n",
      "dense_23 (Dense)             (None, 128)               16512     \n",
      "_________________________________________________________________\n",
      "dense_24 (Dense)             (None, 2)                 258       \n",
      "=================================================================\n",
      "Total params: 65,282\n",
      "Trainable params: 65,282\n",
      "Non-trainable params: 0\n",
      "_________________________________________________________________\n",
      "\n",
      "------------------------------\n",
      "K = 3\n",
      "Model: \"sequential_5\"\n",
      "_________________________________________________________________\n",
      "Layer (type)                 Output Shape              Param #   \n",
      "=================================================================\n",
      "dense_25 (Dense)             (None, 128)               15488     \n",
      "_________________________________________________________________\n",
      "dense_26 (Dense)             (None, 128)               16512     \n",
      "_________________________________________________________________\n",
      "dense_27 (Dense)             (None, 128)               16512     \n",
      "_________________________________________________________________\n",
      "dense_28 (Dense)             (None, 128)               16512     \n",
      "_________________________________________________________________\n",
      "dense_29 (Dense)             (None, 2)                 258       \n",
      "=================================================================\n",
      "Total params: 65,282\n",
      "Trainable params: 65,282\n",
      "Non-trainable params: 0\n",
      "_________________________________________________________________\n",
      "\n",
      "------------------------------\n",
      "K = 4\n",
      "Model: \"sequential_6\"\n",
      "_________________________________________________________________\n",
      "Layer (type)                 Output Shape              Param #   \n",
      "=================================================================\n",
      "dense_30 (Dense)             (None, 128)               15488     \n",
      "_________________________________________________________________\n",
      "dense_31 (Dense)             (None, 128)               16512     \n",
      "_________________________________________________________________\n",
      "dense_32 (Dense)             (None, 128)               16512     \n",
      "_________________________________________________________________\n",
      "dense_33 (Dense)             (None, 128)               16512     \n",
      "_________________________________________________________________\n",
      "dense_34 (Dense)             (None, 2)                 258       \n",
      "=================================================================\n",
      "Total params: 65,282\n",
      "Trainable params: 65,282\n",
      "Non-trainable params: 0\n",
      "_________________________________________________________________\n",
      "\n",
      "------------------------------\n",
      "K = 5\n",
      "Model: \"sequential_7\"\n",
      "_________________________________________________________________\n",
      "Layer (type)                 Output Shape              Param #   \n",
      "=================================================================\n",
      "dense_35 (Dense)             (None, 128)               15488     \n",
      "_________________________________________________________________\n",
      "dense_36 (Dense)             (None, 128)               16512     \n",
      "_________________________________________________________________\n",
      "dense_37 (Dense)             (None, 128)               16512     \n",
      "_________________________________________________________________\n",
      "dense_38 (Dense)             (None, 128)               16512     \n",
      "_________________________________________________________________\n",
      "dense_39 (Dense)             (None, 2)                 258       \n",
      "=================================================================\n",
      "Total params: 65,282\n",
      "Trainable params: 65,282\n",
      "Non-trainable params: 0\n",
      "_________________________________________________________________\n",
      "\n",
      "K # \t n - NN \t\t Beta - NN\n",
      "1 \t 0.04959044 \t\t 0.35545689\n",
      "2 \t 0.04969200 \t\t 0.35565546\n",
      "3 \t 0.04964450 \t\t 0.35520214\n",
      "4 \t 0.04919091 \t\t 0.35464782\n",
      "5 \t 0.04947490 \t\t 0.35536617\n",
      "Mean \t 0.04951855 \t\t 0.35526571\n",
      "Median \t 0.04959044 \t\t 0.35536617\n",
      "\n",
      "Actual \t 0.04949551 \t\t 0.35497724\n"
     ]
    }
   ],
   "source": [
    "n_fold = 5\n",
    "preds_n = []\n",
    "preds_beta = []\n",
    "\n",
    "for i in range(0, n_fold):\n",
    "    print(\"\\n------------------------------\")\n",
    "    print(\"K = {0}\".format(i + 1))\n",
    "    \n",
    "    in_file = \"model_sir_k{0}\".format(i + 1)\n",
    "    in_path = os.path.join(cwd, in_subpath, in_file)\n",
    "    model = tf.keras.models.load_model(in_path)\n",
    "\n",
    "    model.summary()\n",
    "\n",
    "    predictions_data = model(x_data)\n",
    "    preds_n.append(predictions_data[0, 0])\n",
    "    preds_beta.append(predictions_data[0, 1])\n",
    "\n",
    "print(\"\\nK # \\t n - NN \\t\\t Beta - NN\")\n",
    "for i in range(0, n_fold):\n",
    "    print(\"{0} \\t {1:.8f} \\t\\t {2:.8f}\".format(i + 1, preds_n[i], preds_beta[i]))\n",
    "    \n",
    "print(\"{0} \\t {1:.8f} \\t\\t {2:.8f}\".format(\"Mean\", float(np.average(preds_n)), float(np.average(preds_beta))))\n",
    "print(\"{0} \\t {1:.8f} \\t\\t {2:.8f}\".format(\"Median\", float(np.median(preds_n)), float(np.median(preds_beta))))\n",
    "\n",
    "print(\"\\n{0} \\t {1:.8f} \\t\\t {2:.8f}\".format(\"Actual\", y_data[0, 0], y_data[0, 1]))"
   ]
  },
  {
   "cell_type": "markdown",
   "metadata": {},
   "source": [
    "### Simulate ODE"
   ]
  },
  {
   "cell_type": "code",
   "execution_count": 15,
   "metadata": {},
   "outputs": [
    {
     "name": "stdout",
     "output_type": "stream",
     "text": [
      "\n",
      "Sample Length \t n - Actual \t n - NN \t Beta - Actual \t Beta - NN\n",
      "365 \t\t 0.04949551 \t 0.04959044 \t 0.35497724 \t 0.35536617\n",
      "\n",
      "Error n: 0.19%\n",
      "Error Beta: 0.11%\n",
      "\n",
      "MSE: 9187.410730327721\n"
     ]
    }
   ],
   "source": [
    "n_pred = float(np.median(preds_n))\n",
    "beta_pred = float(np.median(preds_beta))\n",
    "gamma_pred = 1.0 / 11\n",
    "\n",
    "n_real = y_data[0, 0]\n",
    "beta_real = y_data[0, 1]\n",
    "gamma_real = 1.0 / 11\n",
    "\n",
    "N = N0 * n_pred\n",
    "I0 = 1\n",
    "S0 = N - I0\n",
    "R0 = 0\n",
    "\n",
    "S = []\n",
    "I = []\n",
    "R = []\n",
    "\n",
    "S.append(S0)\n",
    "I.append(I0)\n",
    "R.append(R0)\n",
    "\n",
    "for i in range(0, n - 1):\n",
    "    dS = - (beta_pred * S[i] * I[i] / N)\n",
    "    dI = (beta_pred * S[i] * I[i] / N) - (gamma_pred * I[i])\n",
    "    dR = (gamma_pred * I[i])\n",
    "\n",
    "    Snew = S[i] + dS\n",
    "    Inew = I[i] + dI\n",
    "    Rnew = R[i] + dR\n",
    "\n",
    "    S.append(Snew)\n",
    "    I.append(Inew)\n",
    "    R.append(Rnew)\n",
    "\n",
    "print(\"\\nSample Length \\t n - Actual \\t n - NN \\t Beta - Actual \\t Beta - NN\")\n",
    "print(\"{0} \\t\\t {1:.8f} \\t {2:.8f} \\t {3:.8f} \\t {4:.8f}\".format(n, y_data[0, 0], n_pred, y_data[0, 1], beta_pred))\n",
    "\n",
    "# CALCUATE RELATIVE ERROR\n",
    "error_n = 100 * abs(n_real - n_pred) / n_real\n",
    "error_beta = 100 * abs(beta_real - beta_pred) / beta_real\n",
    "\n",
    "print(\"\\nError n: {0:.2f}%\".format(error_n))\n",
    "print(\"Error Beta: {0:.2f}%\".format(error_beta))\n",
    "\n",
    "# CALCULATE MSE\n",
    "x_smple = x_total.reshape(n, )\n",
    "mse = sum(np.abs(I - x_smple)**2) / len(I)\n",
    "print(\"\\nMSE: {0}\".format(mse))"
   ]
  },
  {
   "cell_type": "markdown",
   "metadata": {},
   "source": [
    "### Plot Results"
   ]
  },
  {
   "cell_type": "code",
   "execution_count": 16,
   "metadata": {},
   "outputs": [
    {
     "data": {
      "image/png": "[encoded data removed]",
      "text/plain": [
       "<Figure size 1080x576 with 1 Axes>"
      ]
     },
     "metadata": {
      "needs_background": "light"
     },
     "output_type": "display_data"
    }
   ],
   "source": [
    "t_required = np.linspace(0, n, n)\n",
    "\n",
    "plt.figure(figsize=(15,8))\n",
    "plt.plot(t_required, x_smple, \"ob\", ms=10, label=\"Actual: n = {0:.6f}, Beta = {1:.6f}\".format(n_real, beta_real))\n",
    "plt.plot(t_required, I, \"-r\", linewidth=2, label=\"Predicted: n = {0:.6f}, Beta = {1:.6f}\".format(n_pred, beta_pred))\n",
    "plt.xlabel(\"Days\", fontsize=18)\n",
    "plt.ylabel(\"Infected Cases\", fontsize=18)\n",
    "plt.xticks(fontsize=16)\n",
    "plt.yticks(fontsize=16)\n",
    "plt.xlim(0, 365)\n",
    "plt.ylim(0, 100000)\n",
    "plt.legend(loc='upper right', fontsize=16)\n",
    "plt.grid()\n",
    "plt.show()"
   ]
  }
 ],
 "metadata": {
  "kernelspec": {
   "display_name": "Python 3",
   "language": "python",
   "name": "python3"
  },
  "language_info": {
   "codemirror_mode": {
    "name": "ipython",
    "version": 3
   },
   "file_extension": ".py",
   "mimetype": "text/x-python",
   "name": "python",
   "nbconvert_exporter": "python",
   "pygments_lexer": "ipython3",
   "version": "3.8.1"
  }
 },
 "nbformat": 4,
 "nbformat_minor": 5
}
